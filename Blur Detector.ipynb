{
 "cells": [
  {
   "cell_type": "code",
   "execution_count": null,
   "metadata": {},
   "outputs": [],
   "source": [
    "#include the libraries\n",
    "from imutils import paths\n",
    "import argparse\n",
    "import cv2"
   ]
  },
  {
   "cell_type": "code",
   "execution_count": null,
   "metadata": {},
   "outputs": [],
   "source": [
    "ap = argparse.ArgumentParser()\n",
    "ap.add_argument(\"-i\", \"--images\", required=True)\n",
    "args = vars(ap.parse_args())"
   ]
  },
  {
   "cell_type": "code",
   "execution_count": 1,
   "metadata": {},
   "outputs": [
    {
     "name": "stdout",
     "output_type": "stream",
     "text": [
      "THRESHOLD = 100\n"
     ]
    }
   ],
   "source": [
    "#setting the threshold\n",
    "threshold = 100\n",
    "print(\"THRESHOLD = {}\".format(threshold))"
   ]
  },
  {
   "cell_type": "code",
   "execution_count": null,
   "metadata": {},
   "outputs": [],
   "source": [
    "#looping for every images\n",
    "#Applying Laplacian Variance on every image\n",
    "#Comparing with Threshold\n",
    "#Returning \"blurred\" or \"Not Blurred\"\n",
    "\n",
    "for imagePath in paths.list_images(args[\"images\"]):\n",
    "    image = cv.imread(imagePath)\n",
    "    gray = cv.cvtColor(image, cv.COLOR_BGR2GRAY)\n",
    "    focus_measure = cv.Laplacian(image, cv.CV_64F).var()\n",
    "    text = \"Not Blur\"\n",
    "    if focus_measure < threshold:\n",
    "        text = \"Blur Image \"\n",
    "    cv.putText(image, \"{}: {:.2f}\".format(text, focus_measure),(30, 30), cv.FONT_ITALIC, 1.0, (0, 184, 50), 5)\n",
    "    cv.imshow(\"Image\", image)\n",
    "    key = cv.waitKey(0)"
   ]
  }
 ],
 "metadata": {
  "celltoolbar": "Edit Metadata",
  "kernelspec": {
   "display_name": "Python 3",
   "language": "python",
   "name": "python3"
  },
  "language_info": {
   "codemirror_mode": {
    "name": "ipython",
    "version": 3
   },
   "file_extension": ".py",
   "mimetype": "text/x-python",
   "name": "python",
   "nbconvert_exporter": "python",
   "pygments_lexer": "ipython3",
   "version": "3.7.3"
  }
 },
 "nbformat": 4,
 "nbformat_minor": 4
}
